{
 "cells": [
  {
   "cell_type": "code",
   "execution_count": 1,
   "metadata": {},
   "outputs": [],
   "source": [
    "import numpy as np"
   ]
  },
  {
   "cell_type": "code",
   "execution_count": 5,
   "metadata": {},
   "outputs": [
    {
     "data": {
      "text/plain": [
       "array([[1.000e+00, 2.000e+00, 3.000e+00, 4.000e+00, 5.000e+00, 1.000e+02,\n",
       "        5.500e+01, 6.500e+01, 5.000e+00, 2.000e+00, 3.000e+00, 4.000e+00],\n",
       "       [8.000e+00, 7.000e+00, 9.000e+00, 4.000e+00, 1.100e+01, 2.110e+02,\n",
       "        5.400e+01, 6.300e+01, 1.000e+00, 2.400e+01, 4.000e+00, 7.000e+00],\n",
       "       [1.100e+01, 2.200e+01, 3.300e+01, 5.500e+01, 6.600e+01, 4.477e+03,\n",
       "        7.700e+01, 8.800e+01, 1.400e+01, 2.500e+01, 1.400e+01, 1.500e+01]])"
      ]
     },
     "execution_count": 5,
     "metadata": {},
     "output_type": "execute_result"
    }
   ],
   "source": [
    "# load data from file\n",
    "filedata = np.genfromtxt('data.txt', delimiter=',')\n",
    "filedata"
   ]
  },
  {
   "cell_type": "code",
   "execution_count": 6,
   "metadata": {},
   "outputs": [
    {
     "data": {
      "text/plain": [
       "array([[   1,    2,    3,    4,    5,  100,   55,   65,    5,    2,    3,\n",
       "           4],\n",
       "       [   8,    7,    9,    4,   11,  211,   54,   63,    1,   24,    4,\n",
       "           7],\n",
       "       [  11,   22,   33,   55,   66, 4477,   77,   88,   14,   25,   14,\n",
       "          15]])"
      ]
     },
     "execution_count": 6,
     "metadata": {},
     "output_type": "execute_result"
    }
   ],
   "source": [
    "filedata = np.genfromtxt('data.txt', delimiter=',', dtype=\"int32\")\n",
    "filedata"
   ]
  },
  {
   "cell_type": "code",
   "execution_count": 7,
   "metadata": {},
   "outputs": [
    {
     "data": {
      "text/plain": [
       "array([[   1,    2,    3,    4,    5,  100,   55,   65,    5,    2,    3,\n",
       "           4],\n",
       "       [   8,    7,    9,    4,   11,  211,   54,   63,    1,   24,    4,\n",
       "           7],\n",
       "       [  11,   22,   33,   55,   66, 4477,   77,   88,   14,   25,   14,\n",
       "          15]])"
      ]
     },
     "execution_count": 7,
     "metadata": {},
     "output_type": "execute_result"
    }
   ],
   "source": [
    "filedata = np.genfromtxt('data.txt', delimiter=',')\n",
    "filedata = filedata.astype('int32')\n",
    "filedata"
   ]
  },
  {
   "cell_type": "markdown",
   "metadata": {},
   "source": [
    "##### Boolean Masking and Advance indexing\n"
   ]
  },
  {
   "cell_type": "code",
   "execution_count": 8,
   "metadata": {},
   "outputs": [
    {
     "data": {
      "text/plain": [
       "array([[False, False, False, False, False,  True,  True,  True, False,\n",
       "        False, False, False],\n",
       "       [False, False, False, False, False,  True,  True,  True, False,\n",
       "        False, False, False],\n",
       "       [False, False, False,  True,  True,  True,  True,  True, False,\n",
       "        False, False, False]])"
      ]
     },
     "execution_count": 8,
     "metadata": {},
     "output_type": "execute_result"
    }
   ],
   "source": [
    "filedata > 50"
   ]
  },
  {
   "cell_type": "code",
   "execution_count": 9,
   "metadata": {},
   "outputs": [
    {
     "data": {
      "text/plain": [
       "array([ 100,   55,   65,  211,   54,   63,   55,   66, 4477,   77,   88])"
      ]
     },
     "execution_count": 9,
     "metadata": {},
     "output_type": "execute_result"
    }
   ],
   "source": [
    "filedata[filedata > 50]  #  create an array"
   ]
  },
  {
   "cell_type": "code",
   "execution_count": 10,
   "metadata": {},
   "outputs": [
    {
     "data": {
      "text/plain": [
       "array([2, 3, 8])"
      ]
     },
     "execution_count": 10,
     "metadata": {},
     "output_type": "execute_result"
    }
   ],
   "source": [
    "# indexing in numpy\n",
    "arr = np.array([1,2,3,4,5,6,7,8])\n",
    "arr[[1,2,7]]"
   ]
  },
  {
   "cell_type": "code",
   "execution_count": 14,
   "metadata": {},
   "outputs": [
    {
     "data": {
      "text/plain": [
       "array([ True,  True,  True])"
      ]
     },
     "execution_count": 14,
     "metadata": {},
     "output_type": "execute_result"
    }
   ],
   "source": [
    "np.any(filedata > 50, axis=1)"
   ]
  },
  {
   "cell_type": "code",
   "execution_count": 15,
   "metadata": {},
   "outputs": [
    {
     "data": {
      "text/plain": [
       "array([False, False, False,  True,  True,  True,  True,  True, False,\n",
       "       False, False, False])"
      ]
     },
     "execution_count": 15,
     "metadata": {},
     "output_type": "execute_result"
    }
   ],
   "source": [
    "np.any(filedata > 50, axis=0)"
   ]
  },
  {
   "cell_type": "code",
   "execution_count": 16,
   "metadata": {},
   "outputs": [
    {
     "data": {
      "text/plain": [
       "array([False, False, False, False, False,  True,  True,  True, False,\n",
       "       False, False, False])"
      ]
     },
     "execution_count": 16,
     "metadata": {},
     "output_type": "execute_result"
    }
   ],
   "source": [
    "np.all(filedata > 50, axis=0)"
   ]
  },
  {
   "cell_type": "code",
   "execution_count": 17,
   "metadata": {},
   "outputs": [
    {
     "data": {
      "text/plain": [
       "array([False, False, False])"
      ]
     },
     "execution_count": 17,
     "metadata": {},
     "output_type": "execute_result"
    }
   ],
   "source": [
    "np.all(filedata > 50, axis=1)"
   ]
  },
  {
   "cell_type": "code",
   "execution_count": 18,
   "metadata": {},
   "outputs": [
    {
     "data": {
      "text/plain": [
       "array([[False, False, False, False, False, False,  True,  True, False,\n",
       "        False, False, False],\n",
       "       [False, False, False, False, False, False,  True,  True, False,\n",
       "        False, False, False],\n",
       "       [False, False, False,  True,  True, False,  True,  True, False,\n",
       "        False, False, False]])"
      ]
     },
     "execution_count": 18,
     "metadata": {},
     "output_type": "execute_result"
    }
   ],
   "source": [
    "((filedata > 50) & (filedata < 100))"
   ]
  },
  {
   "cell_type": "code",
   "execution_count": 19,
   "metadata": {},
   "outputs": [
    {
     "data": {
      "text/plain": [
       "array([[ True,  True,  True,  True,  True, False, False, False,  True,\n",
       "         True,  True,  True],\n",
       "       [ True,  True,  True,  True,  True, False, False, False,  True,\n",
       "         True,  True,  True],\n",
       "       [ True,  True,  True, False, False, False, False, False,  True,\n",
       "         True,  True,  True]])"
      ]
     },
     "execution_count": 19,
     "metadata": {},
     "output_type": "execute_result"
    }
   ],
   "source": [
    "(~(filedata > 50) & (filedata < 100))  # ~ not operator"
   ]
  },
  {
   "cell_type": "code",
   "execution_count": null,
   "metadata": {},
   "outputs": [],
   "source": [
    "np.linspace(0, 25, 5)"
   ]
  }
 ],
 "metadata": {
  "kernelspec": {
   "display_name": "Python 3",
   "language": "python",
   "name": "python3"
  },
  "language_info": {
   "codemirror_mode": {
    "name": "ipython",
    "version": 3
   },
   "file_extension": ".py",
   "mimetype": "text/x-python",
   "name": "python",
   "nbconvert_exporter": "python",
   "pygments_lexer": "ipython3",
   "version": "3.12.1"
  }
 },
 "nbformat": 4,
 "nbformat_minor": 2
}

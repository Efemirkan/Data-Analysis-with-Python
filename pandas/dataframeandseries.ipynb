{
 "cells": [
  {
   "cell_type": "code",
   "execution_count": 2,
   "metadata": {},
   "outputs": [],
   "source": [
    "import pandas as pd"
   ]
  },
  {
   "cell_type": "code",
   "execution_count": 3,
   "metadata": {},
   "outputs": [],
   "source": [
    "df = pd.read_csv('data/survey_results_public.csv')\n",
    "schema_df = pd.read_csv('data/survey_results_schema.csv')"
   ]
  },
  {
   "cell_type": "code",
   "execution_count": 5,
   "metadata": {},
   "outputs": [],
   "source": [
    "pd.set_option('display.max_columns',85 ) # to see all columns\n",
    "pd.set_option('display.max_rows', 85) # we can see all of the schema"
   ]
  },
  {
   "cell_type": "code",
   "execution_count": 6,
   "metadata": {},
   "outputs": [
    {
     "data": {
      "text/plain": [
       "(88883, 85)"
      ]
     },
     "execution_count": 6,
     "metadata": {},
     "output_type": "execute_result"
    }
   ],
   "source": [
    "df.shape # let see first what we have"
   ]
  },
  {
   "cell_type": "code",
   "execution_count": 7,
   "metadata": {},
   "outputs": [
    {
     "data": {
      "text/plain": [
       "Index(['Respondent', 'MainBranch', 'Hobbyist', 'OpenSourcer', 'OpenSource',\n",
       "       'Employment', 'Country', 'Student', 'EdLevel', 'UndergradMajor',\n",
       "       'EduOther', 'OrgSize', 'DevType', 'YearsCode', 'Age1stCode',\n",
       "       'YearsCodePro', 'CareerSat', 'JobSat', 'MgrIdiot', 'MgrMoney',\n",
       "       'MgrWant', 'JobSeek', 'LastHireDate', 'LastInt', 'FizzBuzz',\n",
       "       'JobFactors', 'ResumeUpdate', 'CurrencySymbol', 'CurrencyDesc',\n",
       "       'CompTotal', 'CompFreq', 'ConvertedComp', 'WorkWeekHrs', 'WorkPlan',\n",
       "       'WorkChallenge', 'WorkRemote', 'WorkLoc', 'ImpSyn', 'CodeRev',\n",
       "       'CodeRevHrs', 'UnitTests', 'PurchaseHow', 'PurchaseWhat',\n",
       "       'LanguageWorkedWith', 'LanguageDesireNextYear', 'DatabaseWorkedWith',\n",
       "       'DatabaseDesireNextYear', 'PlatformWorkedWith',\n",
       "       'PlatformDesireNextYear', 'WebFrameWorkedWith',\n",
       "       'WebFrameDesireNextYear', 'MiscTechWorkedWith',\n",
       "       'MiscTechDesireNextYear', 'DevEnviron', 'OpSys', 'Containers',\n",
       "       'BlockchainOrg', 'BlockchainIs', 'BetterLife', 'ITperson', 'OffOn',\n",
       "       'SocialMedia', 'Extraversion', 'ScreenName', 'SOVisit1st',\n",
       "       'SOVisitFreq', 'SOVisitTo', 'SOFindAnswer', 'SOTimeSaved',\n",
       "       'SOHowMuchTime', 'SOAccount', 'SOPartFreq', 'SOJobs', 'EntTeams',\n",
       "       'SOComm', 'WelcomeChange', 'SONewContent', 'Age', 'Gender', 'Trans',\n",
       "       'Sexuality', 'Ethnicity', 'Dependents', 'SurveyLength', 'SurveyEase'],\n",
       "      dtype='object')"
      ]
     },
     "execution_count": 7,
     "metadata": {},
     "output_type": "execute_result"
    }
   ],
   "source": [
    "df.columns #  to see all columns"
   ]
  },
  {
   "cell_type": "code",
   "execution_count": 8,
   "metadata": {},
   "outputs": [
    {
     "data": {
      "text/plain": [
       "0        Yes\n",
       "1         No\n",
       "2        Yes\n",
       "3         No\n",
       "4        Yes\n",
       "        ... \n",
       "88878    Yes\n",
       "88879     No\n",
       "88880     No\n",
       "88881     No\n",
       "88882    Yes\n",
       "Name: Hobbyist, Length: 88883, dtype: object"
      ]
     },
     "execution_count": 8,
     "metadata": {},
     "output_type": "execute_result"
    }
   ],
   "source": [
    "df['Hobbyist'] # access certain column"
   ]
  },
  {
   "cell_type": "code",
   "execution_count": 9,
   "metadata": {},
   "outputs": [
    {
     "data": {
      "text/plain": [
       "Hobbyist\n",
       "Yes    71257\n",
       "No     17626\n",
       "Name: count, dtype: int64"
      ]
     },
     "execution_count": 9,
     "metadata": {},
     "output_type": "execute_result"
    }
   ],
   "source": [
    "df['Hobbyist'].value_counts() # to show us values column have"
   ]
  },
  {
   "cell_type": "code",
   "execution_count": 10,
   "metadata": {},
   "outputs": [
    {
     "data": {
      "text/plain": [
       "Respondent                                                                1\n",
       "MainBranch                           I am a student who is learning to code\n",
       "Hobbyist                                                                Yes\n",
       "OpenSourcer                                                           Never\n",
       "OpenSource                The quality of OSS and closed source software ...\n",
       "Employment                           Not employed, and not looking for work\n",
       "Country                                                      United Kingdom\n",
       "Student                                                                  No\n",
       "EdLevel                                           Primary/elementary school\n",
       "UndergradMajor                                                          NaN\n",
       "EduOther                  Taught yourself a new language, framework, or ...\n",
       "OrgSize                                                                 NaN\n",
       "DevType                                                                 NaN\n",
       "YearsCode                                                                 4\n",
       "Age1stCode                                                               10\n",
       "YearsCodePro                                                            NaN\n",
       "CareerSat                                                               NaN\n",
       "JobSat                                                                  NaN\n",
       "MgrIdiot                                                                NaN\n",
       "MgrMoney                                                                NaN\n",
       "MgrWant                                                                 NaN\n",
       "JobSeek                                                                 NaN\n",
       "LastHireDate                                                            NaN\n",
       "LastInt                                                                 NaN\n",
       "FizzBuzz                                                                NaN\n",
       "JobFactors                                                              NaN\n",
       "ResumeUpdate                                                            NaN\n",
       "CurrencySymbol                                                          NaN\n",
       "CurrencyDesc                                                            NaN\n",
       "CompTotal                                                               NaN\n",
       "CompFreq                                                                NaN\n",
       "ConvertedComp                                                           NaN\n",
       "WorkWeekHrs                                                             NaN\n",
       "WorkPlan                                                                NaN\n",
       "WorkChallenge                                                           NaN\n",
       "WorkRemote                                                              NaN\n",
       "WorkLoc                                                                 NaN\n",
       "ImpSyn                                                                  NaN\n",
       "CodeRev                                                                 NaN\n",
       "CodeRevHrs                                                              NaN\n",
       "UnitTests                                                               NaN\n",
       "PurchaseHow                                                             NaN\n",
       "PurchaseWhat                                                            NaN\n",
       "LanguageWorkedWith                          HTML/CSS;Java;JavaScript;Python\n",
       "LanguageDesireNextYear      C;C++;C#;Go;HTML/CSS;Java;JavaScript;Python;SQL\n",
       "DatabaseWorkedWith                                                   SQLite\n",
       "DatabaseDesireNextYear                                                MySQL\n",
       "PlatformWorkedWith                                            MacOS;Windows\n",
       "PlatformDesireNextYear                              Android;Arduino;Windows\n",
       "WebFrameWorkedWith                                             Django;Flask\n",
       "WebFrameDesireNextYear                                         Flask;jQuery\n",
       "MiscTechWorkedWith                                                  Node.js\n",
       "MiscTechDesireNextYear                                              Node.js\n",
       "DevEnviron                                       IntelliJ;Notepad++;PyCharm\n",
       "OpSys                                                               Windows\n",
       "Containers                                          I do not use containers\n",
       "BlockchainOrg                                                           NaN\n",
       "BlockchainIs                                                            NaN\n",
       "BetterLife                                                              Yes\n",
       "ITperson                           Fortunately, someone else has that title\n",
       "OffOn                                                                   Yes\n",
       "SocialMedia                                                         Twitter\n",
       "Extraversion                                                         Online\n",
       "ScreenName                                                         Username\n",
       "SOVisit1st                                                             2017\n",
       "SOVisitFreq                                 A few times per month or weekly\n",
       "SOVisitTo                 Find answers to specific questions;Learn how t...\n",
       "SOFindAnswer                                             3-5 times per week\n",
       "SOTimeSaved                                  Stack Overflow was much faster\n",
       "SOHowMuchTime                                                 31-60 minutes\n",
       "SOAccount                                                                No\n",
       "SOPartFreq                                                              NaN\n",
       "SOJobs                    No, I didn't know that Stack Overflow had a jo...\n",
       "EntTeams                                No, and I don't know what those are\n",
       "SOComm                                                              Neutral\n",
       "WelcomeChange                       Just as welcome now as I felt last year\n",
       "SONewContent              Tech articles written by other developers;Indu...\n",
       "Age                                                                    14.0\n",
       "Gender                                                                  Man\n",
       "Trans                                                                    No\n",
       "Sexuality                                           Straight / Heterosexual\n",
       "Ethnicity                                                               NaN\n",
       "Dependents                                                               No\n",
       "SurveyLength                                          Appropriate in length\n",
       "SurveyEase                                       Neither easy nor difficult\n",
       "Name: 0, dtype: object"
      ]
     },
     "execution_count": 10,
     "metadata": {},
     "output_type": "execute_result"
    }
   ],
   "source": [
    "df.loc[0] # to see first row"
   ]
  },
  {
   "cell_type": "code",
   "execution_count": 12,
   "metadata": {},
   "outputs": [
    {
     "data": {
      "text/plain": [
       "0    Yes\n",
       "1     No\n",
       "2    Yes\n",
       "Name: Hobbyist, dtype: object"
      ]
     },
     "execution_count": 12,
     "metadata": {},
     "output_type": "execute_result"
    }
   ],
   "source": [
    "df.loc[[0,1,2],'Hobbyist'] # to see first to rows in Hobbyist column"
   ]
  },
  {
   "cell_type": "code",
   "execution_count": 13,
   "metadata": {},
   "outputs": [
    {
     "data": {
      "text/plain": [
       "0    Yes\n",
       "1     No\n",
       "2    Yes\n",
       "3     No\n",
       "4    Yes\n",
       "5    Yes\n",
       "Name: Hobbyist, dtype: object"
      ]
     },
     "execution_count": 13,
     "metadata": {},
     "output_type": "execute_result"
    }
   ],
   "source": [
    "df.loc[0:5, 'Hobbyist'] # slicing to row"
   ]
  },
  {
   "cell_type": "code",
   "execution_count": 16,
   "metadata": {},
   "outputs": [
    {
     "data": {
      "text/html": [
       "<div>\n",
       "<style scoped>\n",
       "    .dataframe tbody tr th:only-of-type {\n",
       "        vertical-align: middle;\n",
       "    }\n",
       "\n",
       "    .dataframe tbody tr th {\n",
       "        vertical-align: top;\n",
       "    }\n",
       "\n",
       "    .dataframe thead th {\n",
       "        text-align: right;\n",
       "    }\n",
       "</style>\n",
       "<table border=\"1\" class=\"dataframe\">\n",
       "  <thead>\n",
       "    <tr style=\"text-align: right;\">\n",
       "      <th></th>\n",
       "      <th>Hobbyist</th>\n",
       "      <th>OpenSourcer</th>\n",
       "      <th>OpenSource</th>\n",
       "      <th>Employment</th>\n",
       "    </tr>\n",
       "  </thead>\n",
       "  <tbody>\n",
       "    <tr>\n",
       "      <th>0</th>\n",
       "      <td>Yes</td>\n",
       "      <td>Never</td>\n",
       "      <td>The quality of OSS and closed source software ...</td>\n",
       "      <td>Not employed, and not looking for work</td>\n",
       "    </tr>\n",
       "    <tr>\n",
       "      <th>1</th>\n",
       "      <td>No</td>\n",
       "      <td>Less than once per year</td>\n",
       "      <td>The quality of OSS and closed source software ...</td>\n",
       "      <td>Not employed, but looking for work</td>\n",
       "    </tr>\n",
       "    <tr>\n",
       "      <th>2</th>\n",
       "      <td>Yes</td>\n",
       "      <td>Never</td>\n",
       "      <td>The quality of OSS and closed source software ...</td>\n",
       "      <td>Employed full-time</td>\n",
       "    </tr>\n",
       "    <tr>\n",
       "      <th>3</th>\n",
       "      <td>No</td>\n",
       "      <td>Never</td>\n",
       "      <td>The quality of OSS and closed source software ...</td>\n",
       "      <td>Employed full-time</td>\n",
       "    </tr>\n",
       "    <tr>\n",
       "      <th>4</th>\n",
       "      <td>Yes</td>\n",
       "      <td>Once a month or more often</td>\n",
       "      <td>OSS is, on average, of HIGHER quality than pro...</td>\n",
       "      <td>Employed full-time</td>\n",
       "    </tr>\n",
       "    <tr>\n",
       "      <th>5</th>\n",
       "      <td>Yes</td>\n",
       "      <td>Never</td>\n",
       "      <td>The quality of OSS and closed source software ...</td>\n",
       "      <td>Employed full-time</td>\n",
       "    </tr>\n",
       "  </tbody>\n",
       "</table>\n",
       "</div>"
      ],
      "text/plain": [
       "  Hobbyist                 OpenSourcer  \\\n",
       "0      Yes                       Never   \n",
       "1       No     Less than once per year   \n",
       "2      Yes                       Never   \n",
       "3       No                       Never   \n",
       "4      Yes  Once a month or more often   \n",
       "5      Yes                       Never   \n",
       "\n",
       "                                          OpenSource  \\\n",
       "0  The quality of OSS and closed source software ...   \n",
       "1  The quality of OSS and closed source software ...   \n",
       "2  The quality of OSS and closed source software ...   \n",
       "3  The quality of OSS and closed source software ...   \n",
       "4  OSS is, on average, of HIGHER quality than pro...   \n",
       "5  The quality of OSS and closed source software ...   \n",
       "\n",
       "                               Employment  \n",
       "0  Not employed, and not looking for work  \n",
       "1      Not employed, but looking for work  \n",
       "2                      Employed full-time  \n",
       "3                      Employed full-time  \n",
       "4                      Employed full-time  \n",
       "5                      Employed full-time  "
      ]
     },
     "execution_count": 16,
     "metadata": {},
     "output_type": "execute_result"
    }
   ],
   "source": [
    "df.loc[0:5, 'Hobbyist': 'Employment'] # slicing rows and columns"
   ]
  },
  {
   "cell_type": "code",
   "execution_count": null,
   "metadata": {},
   "outputs": [],
   "source": []
  }
 ],
 "metadata": {
  "kernelspec": {
   "display_name": "Python 3",
   "language": "python",
   "name": "python3"
  },
  "language_info": {
   "codemirror_mode": {
    "name": "ipython",
    "version": 3
   },
   "file_extension": ".py",
   "mimetype": "text/x-python",
   "name": "python",
   "nbconvert_exporter": "python",
   "pygments_lexer": "ipython3",
   "version": "3.10.12"
  }
 },
 "nbformat": 4,
 "nbformat_minor": 2
}
